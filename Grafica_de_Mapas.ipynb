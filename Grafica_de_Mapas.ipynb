{
 "cells": [
  {
   "cell_type": "code",
   "execution_count": 1,
   "metadata": {},
   "outputs": [],
   "source": [
    "#import sys\n",
    "#!{sys.executable} -m pip install folium\n",
    "#!{sys.executable} -m pip install --upgrade setuptools\n",
    "#!{sys.executable} -m pip install ez_setup\n",
    "#!{sys.executable} -m pip install unroll"
   ]
  },
  {
   "cell_type": "code",
   "execution_count": 140,
   "metadata": {},
   "outputs": [
    {
     "name": "stdout",
     "output_type": "stream",
     "text": [
      "0.7.0\n"
     ]
    }
   ],
   "source": [
    "import os\n",
    "import pandas as pd\n",
    "import numpy as np\n",
    "import folium\n",
    "import json\n",
    "from folium.features import DivIcon\n",
    "print(folium.__version__)"
   ]
  },
  {
   "cell_type": "code",
   "execution_count": 141,
   "metadata": {},
   "outputs": [],
   "source": [
    "#Leitura do arquivo json para ler o mapa\n",
    "geo_region_json = os.path.join('data','Brasil', 'geojs-35-mun.json')\n",
    "geo_json_data = json.load(open(geo_region_json))"
   ]
  },
  {
   "cell_type": "markdown",
   "metadata": {},
   "source": [
    "## Coloreando as regiones do mapa"
   ]
  },
  {
   "cell_type": "code",
   "execution_count": 142,
   "metadata": {},
   "outputs": [],
   "source": [
    "#Inicializando o meio da tela do mapa de BRASILIA\n",
    "m = folium.Map([-15.794906, -47.883656], zoom_start=4)\n",
    "folium.GeoJson(\n",
    "    geo_json_data,\n",
    "    style_function=lambda feature: {\n",
    "        'fillColor': 'green' if 'w' in feature['properties']['name'].lower() else 'red',\n",
    "        'color': 'black',\n",
    "        'weight': 2,\n",
    "        'dashArray': '5, 5'\n",
    "    }\n",
    ").add_to(m)\n",
    "m.save(os.path.join('data', 'GeoJSON_and_choropleth_1.html'))"
   ]
  },
  {
   "cell_type": "markdown",
   "metadata": {},
   "source": [
    "## Lendo os dados do Data Frame para unir com o mapa"
   ]
  },
  {
   "cell_type": "code",
   "execution_count": 143,
   "metadata": {},
   "outputs": [
    {
     "data": {
      "text/html": [
       "<div>\n",
       "<style scoped>\n",
       "    .dataframe tbody tr th:only-of-type {\n",
       "        vertical-align: middle;\n",
       "    }\n",
       "\n",
       "    .dataframe tbody tr th {\n",
       "        vertical-align: top;\n",
       "    }\n",
       "\n",
       "    .dataframe thead th {\n",
       "        text-align: right;\n",
       "    }\n",
       "</style>\n",
       "<table border=\"1\" class=\"dataframe\">\n",
       "  <thead>\n",
       "    <tr style=\"text-align: right;\">\n",
       "      <th></th>\n",
       "      <th>id_region</th>\n",
       "      <th>2018_01_01</th>\n",
       "      <th>2018_01_02</th>\n",
       "      <th>2018_01_03</th>\n",
       "      <th>2018_01_04</th>\n",
       "      <th>2018_01_05</th>\n",
       "      <th>2018_01_06</th>\n",
       "      <th>2018_01_07</th>\n",
       "      <th>2018_01_08</th>\n",
       "      <th>2018_01_09</th>\n",
       "      <th>2018_01_10</th>\n",
       "      <th>2018_01_11</th>\n",
       "      <th>2018_01_12</th>\n",
       "    </tr>\n",
       "  </thead>\n",
       "  <tbody>\n",
       "    <tr>\n",
       "      <th>640</th>\n",
       "      <td>Votorantim</td>\n",
       "      <td>1</td>\n",
       "      <td>2</td>\n",
       "      <td>3</td>\n",
       "      <td>4</td>\n",
       "      <td>5</td>\n",
       "      <td>6</td>\n",
       "      <td>7</td>\n",
       "      <td>8</td>\n",
       "      <td>9</td>\n",
       "      <td>10</td>\n",
       "      <td>11</td>\n",
       "      <td>12</td>\n",
       "    </tr>\n",
       "    <tr>\n",
       "      <th>641</th>\n",
       "      <td>Votuporanga</td>\n",
       "      <td>1</td>\n",
       "      <td>2</td>\n",
       "      <td>3</td>\n",
       "      <td>4</td>\n",
       "      <td>5</td>\n",
       "      <td>6</td>\n",
       "      <td>7</td>\n",
       "      <td>8</td>\n",
       "      <td>9</td>\n",
       "      <td>10</td>\n",
       "      <td>11</td>\n",
       "      <td>12</td>\n",
       "    </tr>\n",
       "    <tr>\n",
       "      <th>642</th>\n",
       "      <td>Zacarias</td>\n",
       "      <td>1</td>\n",
       "      <td>2</td>\n",
       "      <td>3</td>\n",
       "      <td>4</td>\n",
       "      <td>5</td>\n",
       "      <td>6</td>\n",
       "      <td>7</td>\n",
       "      <td>8</td>\n",
       "      <td>9</td>\n",
       "      <td>10</td>\n",
       "      <td>11</td>\n",
       "      <td>12</td>\n",
       "    </tr>\n",
       "    <tr>\n",
       "      <th>643</th>\n",
       "      <td>Chavantes</td>\n",
       "      <td>1</td>\n",
       "      <td>2</td>\n",
       "      <td>3</td>\n",
       "      <td>4</td>\n",
       "      <td>5</td>\n",
       "      <td>6</td>\n",
       "      <td>7</td>\n",
       "      <td>8</td>\n",
       "      <td>9</td>\n",
       "      <td>10</td>\n",
       "      <td>11</td>\n",
       "      <td>12</td>\n",
       "    </tr>\n",
       "    <tr>\n",
       "      <th>644</th>\n",
       "      <td>Estiva Gerbi</td>\n",
       "      <td>1</td>\n",
       "      <td>2</td>\n",
       "      <td>3</td>\n",
       "      <td>4</td>\n",
       "      <td>5</td>\n",
       "      <td>6</td>\n",
       "      <td>7</td>\n",
       "      <td>8</td>\n",
       "      <td>9</td>\n",
       "      <td>10</td>\n",
       "      <td>11</td>\n",
       "      <td>12</td>\n",
       "    </tr>\n",
       "  </tbody>\n",
       "</table>\n",
       "</div>"
      ],
      "text/plain": [
       "        id_region  2018_01_01  2018_01_02  2018_01_03  2018_01_04  2018_01_05  \\\n",
       "640    Votorantim           1           2           3           4           5   \n",
       "641   Votuporanga           1           2           3           4           5   \n",
       "642      Zacarias           1           2           3           4           5   \n",
       "643     Chavantes           1           2           3           4           5   \n",
       "644  Estiva Gerbi           1           2           3           4           5   \n",
       "\n",
       "     2018_01_06  2018_01_07  2018_01_08  2018_01_09  2018_01_10  2018_01_11  \\\n",
       "640           6           7           8           9          10          11   \n",
       "641           6           7           8           9          10          11   \n",
       "642           6           7           8           9          10          11   \n",
       "643           6           7           8           9          10          11   \n",
       "644           6           7           8           9          10          11   \n",
       "\n",
       "     2018_01_12  \n",
       "640          12  \n",
       "641          12  \n",
       "642          12  \n",
       "643          12  \n",
       "644          12  "
      ]
     },
     "execution_count": 143,
     "metadata": {},
     "output_type": "execute_result"
    }
   ],
   "source": [
    "df_Dados=pd.read_csv(\"data/Dados.csv\",sep=',')\n",
    "df_Dados.tail()"
   ]
  },
  {
   "cell_type": "markdown",
   "metadata": {},
   "source": [
    "## Calculado o Centroide de cada region de los poligonos"
   ]
  },
  {
   "cell_type": "code",
   "execution_count": 146,
   "metadata": {},
   "outputs": [
    {
     "name": "stderr",
     "output_type": "stream",
     "text": [
      "C:\\Users\\emily\\Anaconda3\\lib\\site-packages\\ipykernel_launcher.py:14: FutureWarning:\n",
      "\n",
      "set_value is deprecated and will be removed in a future release. Please use .at[] or .iat[] accessors instead\n",
      "\n",
      "C:\\Users\\emily\\Anaconda3\\lib\\site-packages\\ipykernel_launcher.py:15: FutureWarning:\n",
      "\n",
      "set_value is deprecated and will be removed in a future release. Please use .at[] or .iat[] accessors instead\n",
      "\n"
     ]
    },
    {
     "data": {
      "text/html": [
       "<div>\n",
       "<style scoped>\n",
       "    .dataframe tbody tr th:only-of-type {\n",
       "        vertical-align: middle;\n",
       "    }\n",
       "\n",
       "    .dataframe tbody tr th {\n",
       "        vertical-align: top;\n",
       "    }\n",
       "\n",
       "    .dataframe thead th {\n",
       "        text-align: right;\n",
       "    }\n",
       "</style>\n",
       "<table border=\"1\" class=\"dataframe\">\n",
       "  <thead>\n",
       "    <tr style=\"text-align: right;\">\n",
       "      <th></th>\n",
       "      <th>id_region</th>\n",
       "      <th>cord_centroide</th>\n",
       "    </tr>\n",
       "  </thead>\n",
       "  <tbody>\n",
       "    <tr>\n",
       "      <th>0</th>\n",
       "      <td>Adamantina</td>\n",
       "      <td>[-21.583839, -51.069608]</td>\n",
       "    </tr>\n",
       "    <tr>\n",
       "      <th>1</th>\n",
       "      <td>Adolfo</td>\n",
       "      <td>[-21.283119, -49.657473]</td>\n",
       "    </tr>\n",
       "    <tr>\n",
       "      <th>2</th>\n",
       "      <td>Aguaí</td>\n",
       "      <td>[-22.033233, -47.059454]</td>\n",
       "    </tr>\n",
       "    <tr>\n",
       "      <th>3</th>\n",
       "      <td>Águas da Prata</td>\n",
       "      <td>[-21.920955, -46.700187]</td>\n",
       "    </tr>\n",
       "    <tr>\n",
       "      <th>4</th>\n",
       "      <td>Águas de Lindóia</td>\n",
       "      <td>[-22.47691, -46.600142]</td>\n",
       "    </tr>\n",
       "  </tbody>\n",
       "</table>\n",
       "</div>"
      ],
      "text/plain": [
       "          id_region            cord_centroide\n",
       "0        Adamantina  [-21.583839, -51.069608]\n",
       "1            Adolfo  [-21.283119, -49.657473]\n",
       "2             Aguaí  [-22.033233, -47.059454]\n",
       "3    Águas da Prata  [-21.920955, -46.700187]\n",
       "4  Águas de Lindóia   [-22.47691, -46.600142]"
      ]
     },
     "execution_count": 146,
     "metadata": {},
     "output_type": "execute_result"
    }
   ],
   "source": [
    "#Criando um novo dataframe para guardar os centroides com seus respectivos ids (Nome_Region)\n",
    "df_Centroides=pd.DataFrame(columns=['id_region','cord_centroide'])\n",
    "#Filtrando as cordenadas do arquivo json para calcular os centrides\n",
    "for Poligonos in range(len(geo_json_data['features'])):\n",
    "    #Filtrando o id_Region de cada poligono\n",
    "    ide=geo_json_data['features'][Poligonos]['properties']['id']\n",
    "    #Filtro en listas de todos os pontos de cada poligono\n",
    "    Lista_Coord_Poly=geo_json_data['features'][Poligonos]['geometry']['coordinates'][0]\n",
    "    #Almazenando os valores \"X\" de cada ponto\n",
    "    x = [p[0] for p in Lista_Coord_Poly]\n",
    "    #Almazenando os valores \"Y\" de cada ponto\n",
    "    y = [p[1] for p in Lista_Coord_Poly]\n",
    "    centroid = [np.round(sum(y) / len(Lista_Coord_Poly),decimals=6), np.round(sum(x) / len(Lista_Coord_Poly),decimals=6)]\n",
    "    df_Centroides.set_value(Poligonos,'id_region',ide)\n",
    "    df_Centroides.set_value(Poligonos,'cord_centroide',centroid)\n",
    "df_Centroides.head()"
   ]
  },
  {
   "cell_type": "code",
   "execution_count": 147,
   "metadata": {},
   "outputs": [
    {
     "data": {
      "text/html": [
       "<div>\n",
       "<style scoped>\n",
       "    .dataframe tbody tr th:only-of-type {\n",
       "        vertical-align: middle;\n",
       "    }\n",
       "\n",
       "    .dataframe tbody tr th {\n",
       "        vertical-align: top;\n",
       "    }\n",
       "\n",
       "    .dataframe thead th {\n",
       "        text-align: right;\n",
       "    }\n",
       "</style>\n",
       "<table border=\"1\" class=\"dataframe\">\n",
       "  <thead>\n",
       "    <tr style=\"text-align: right;\">\n",
       "      <th></th>\n",
       "      <th>id_region</th>\n",
       "      <th>2018_01_01</th>\n",
       "      <th>2018_01_02</th>\n",
       "      <th>2018_01_03</th>\n",
       "      <th>2018_01_04</th>\n",
       "      <th>2018_01_05</th>\n",
       "      <th>2018_01_06</th>\n",
       "      <th>2018_01_07</th>\n",
       "      <th>2018_01_08</th>\n",
       "      <th>2018_01_09</th>\n",
       "      <th>2018_01_10</th>\n",
       "      <th>2018_01_11</th>\n",
       "      <th>2018_01_12</th>\n",
       "      <th>cord_centroide</th>\n",
       "    </tr>\n",
       "  </thead>\n",
       "  <tbody>\n",
       "    <tr>\n",
       "      <th>640</th>\n",
       "      <td>Votorantim</td>\n",
       "      <td>1</td>\n",
       "      <td>2</td>\n",
       "      <td>3</td>\n",
       "      <td>4</td>\n",
       "      <td>5</td>\n",
       "      <td>6</td>\n",
       "      <td>7</td>\n",
       "      <td>8</td>\n",
       "      <td>9</td>\n",
       "      <td>10</td>\n",
       "      <td>11</td>\n",
       "      <td>12</td>\n",
       "      <td>[-23.577462, -47.412144]</td>\n",
       "    </tr>\n",
       "    <tr>\n",
       "      <th>641</th>\n",
       "      <td>Votuporanga</td>\n",
       "      <td>1</td>\n",
       "      <td>2</td>\n",
       "      <td>3</td>\n",
       "      <td>4</td>\n",
       "      <td>5</td>\n",
       "      <td>6</td>\n",
       "      <td>7</td>\n",
       "      <td>8</td>\n",
       "      <td>9</td>\n",
       "      <td>10</td>\n",
       "      <td>11</td>\n",
       "      <td>12</td>\n",
       "      <td>[-20.483022, -50.016041]</td>\n",
       "    </tr>\n",
       "    <tr>\n",
       "      <th>642</th>\n",
       "      <td>Zacarias</td>\n",
       "      <td>1</td>\n",
       "      <td>2</td>\n",
       "      <td>3</td>\n",
       "      <td>4</td>\n",
       "      <td>5</td>\n",
       "      <td>6</td>\n",
       "      <td>7</td>\n",
       "      <td>8</td>\n",
       "      <td>9</td>\n",
       "      <td>10</td>\n",
       "      <td>11</td>\n",
       "      <td>12</td>\n",
       "      <td>[-21.110821, -50.056437]</td>\n",
       "    </tr>\n",
       "    <tr>\n",
       "      <th>643</th>\n",
       "      <td>Chavantes</td>\n",
       "      <td>1</td>\n",
       "      <td>2</td>\n",
       "      <td>3</td>\n",
       "      <td>4</td>\n",
       "      <td>5</td>\n",
       "      <td>6</td>\n",
       "      <td>7</td>\n",
       "      <td>8</td>\n",
       "      <td>9</td>\n",
       "      <td>10</td>\n",
       "      <td>11</td>\n",
       "      <td>12</td>\n",
       "      <td>[-23.031241, -49.728742]</td>\n",
       "    </tr>\n",
       "    <tr>\n",
       "      <th>644</th>\n",
       "      <td>Estiva Gerbi</td>\n",
       "      <td>1</td>\n",
       "      <td>2</td>\n",
       "      <td>3</td>\n",
       "      <td>4</td>\n",
       "      <td>5</td>\n",
       "      <td>6</td>\n",
       "      <td>7</td>\n",
       "      <td>8</td>\n",
       "      <td>9</td>\n",
       "      <td>10</td>\n",
       "      <td>11</td>\n",
       "      <td>12</td>\n",
       "      <td>[-22.233445, -46.943029]</td>\n",
       "    </tr>\n",
       "  </tbody>\n",
       "</table>\n",
       "</div>"
      ],
      "text/plain": [
       "        id_region  2018_01_01  2018_01_02  2018_01_03  2018_01_04  2018_01_05  \\\n",
       "640    Votorantim           1           2           3           4           5   \n",
       "641   Votuporanga           1           2           3           4           5   \n",
       "642      Zacarias           1           2           3           4           5   \n",
       "643     Chavantes           1           2           3           4           5   \n",
       "644  Estiva Gerbi           1           2           3           4           5   \n",
       "\n",
       "     2018_01_06  2018_01_07  2018_01_08  2018_01_09  2018_01_10  2018_01_11  \\\n",
       "640           6           7           8           9          10          11   \n",
       "641           6           7           8           9          10          11   \n",
       "642           6           7           8           9          10          11   \n",
       "643           6           7           8           9          10          11   \n",
       "644           6           7           8           9          10          11   \n",
       "\n",
       "     2018_01_12            cord_centroide  \n",
       "640          12  [-23.577462, -47.412144]  \n",
       "641          12  [-20.483022, -50.016041]  \n",
       "642          12  [-21.110821, -50.056437]  \n",
       "643          12  [-23.031241, -49.728742]  \n",
       "644          12  [-22.233445, -46.943029]  "
      ]
     },
     "execution_count": 147,
     "metadata": {},
     "output_type": "execute_result"
    }
   ],
   "source": [
    "df_Dados_com_Coordenadas = pd.merge(df_Dados, df_Centroides, how='inner', on=['id_region'])\n",
    "df_Dados_com_Coordenadas.tail()"
   ]
  },
  {
   "cell_type": "code",
   "execution_count": 148,
   "metadata": {},
   "outputs": [
    {
     "name": "stderr",
     "output_type": "stream",
     "text": [
      "C:\\Users\\emily\\Anaconda3\\lib\\site-packages\\ipykernel_launcher.py:8: FutureWarning:\n",
      "\n",
      "set_value is deprecated and will be removed in a future release. Please use .at[] or .iat[] accessors instead\n",
      "\n",
      "C:\\Users\\emily\\Anaconda3\\lib\\site-packages\\ipykernel_launcher.py:9: FutureWarning:\n",
      "\n",
      "set_value is deprecated and will be removed in a future release. Please use .at[] or .iat[] accessors instead\n",
      "\n",
      "C:\\Users\\emily\\Anaconda3\\lib\\site-packages\\ipykernel_launcher.py:11: FutureWarning:\n",
      "\n",
      "set_value is deprecated and will be removed in a future release. Please use .at[] or .iat[] accessors instead\n",
      "\n",
      "C:\\Users\\emily\\Anaconda3\\lib\\site-packages\\ipykernel_launcher.py:12: FutureWarning:\n",
      "\n",
      "set_value is deprecated and will be removed in a future release. Please use .at[] or .iat[] accessors instead\n",
      "\n"
     ]
    },
    {
     "data": {
      "text/html": [
       "<div>\n",
       "<style scoped>\n",
       "    .dataframe tbody tr th:only-of-type {\n",
       "        vertical-align: middle;\n",
       "    }\n",
       "\n",
       "    .dataframe tbody tr th {\n",
       "        vertical-align: top;\n",
       "    }\n",
       "\n",
       "    .dataframe thead th {\n",
       "        text-align: right;\n",
       "    }\n",
       "</style>\n",
       "<table border=\"1\" class=\"dataframe\">\n",
       "  <thead>\n",
       "    <tr style=\"text-align: right;\">\n",
       "      <th></th>\n",
       "      <th>id_region</th>\n",
       "      <th>2018_01_01</th>\n",
       "      <th>2018_01_02</th>\n",
       "      <th>2018_01_03</th>\n",
       "      <th>2018_01_04</th>\n",
       "      <th>2018_01_05</th>\n",
       "      <th>2018_01_06</th>\n",
       "      <th>2018_01_07</th>\n",
       "      <th>2018_01_08</th>\n",
       "      <th>2018_01_09</th>\n",
       "      <th>2018_01_10</th>\n",
       "      <th>2018_01_11</th>\n",
       "      <th>2018_01_12</th>\n",
       "      <th>cord_centroide</th>\n",
       "    </tr>\n",
       "  </thead>\n",
       "  <tbody>\n",
       "    <tr>\n",
       "      <th>642</th>\n",
       "      <td>Zacarias</td>\n",
       "      <td>1.0</td>\n",
       "      <td>2.0</td>\n",
       "      <td>3.0</td>\n",
       "      <td>4.0</td>\n",
       "      <td>5.0</td>\n",
       "      <td>6.0</td>\n",
       "      <td>7.0</td>\n",
       "      <td>8.0</td>\n",
       "      <td>9.0</td>\n",
       "      <td>10.0</td>\n",
       "      <td>11.0</td>\n",
       "      <td>12.0</td>\n",
       "      <td>[-21.110821, -50.056437]</td>\n",
       "    </tr>\n",
       "    <tr>\n",
       "      <th>643</th>\n",
       "      <td>Chavantes</td>\n",
       "      <td>1.0</td>\n",
       "      <td>2.0</td>\n",
       "      <td>3.0</td>\n",
       "      <td>4.0</td>\n",
       "      <td>5.0</td>\n",
       "      <td>6.0</td>\n",
       "      <td>7.0</td>\n",
       "      <td>8.0</td>\n",
       "      <td>9.0</td>\n",
       "      <td>10.0</td>\n",
       "      <td>11.0</td>\n",
       "      <td>12.0</td>\n",
       "      <td>[-23.031241, -49.728742]</td>\n",
       "    </tr>\n",
       "    <tr>\n",
       "      <th>644</th>\n",
       "      <td>Estiva Gerbi</td>\n",
       "      <td>1.0</td>\n",
       "      <td>2.0</td>\n",
       "      <td>3.0</td>\n",
       "      <td>4.0</td>\n",
       "      <td>5.0</td>\n",
       "      <td>6.0</td>\n",
       "      <td>7.0</td>\n",
       "      <td>8.0</td>\n",
       "      <td>9.0</td>\n",
       "      <td>10.0</td>\n",
       "      <td>11.0</td>\n",
       "      <td>12.0</td>\n",
       "      <td>[-22.233445, -46.943029]</td>\n",
       "    </tr>\n",
       "    <tr>\n",
       "      <th>645</th>\n",
       "      <td>Limite_Minima</td>\n",
       "      <td>1.0</td>\n",
       "      <td>1.0</td>\n",
       "      <td>1.0</td>\n",
       "      <td>1.0</td>\n",
       "      <td>1.0</td>\n",
       "      <td>1.0</td>\n",
       "      <td>1.0</td>\n",
       "      <td>1.0</td>\n",
       "      <td>1.0</td>\n",
       "      <td>1.0</td>\n",
       "      <td>1.0</td>\n",
       "      <td>1.0</td>\n",
       "      <td>NaN</td>\n",
       "    </tr>\n",
       "    <tr>\n",
       "      <th>646</th>\n",
       "      <td>Limite_Maxima</td>\n",
       "      <td>800.0</td>\n",
       "      <td>800.0</td>\n",
       "      <td>800.0</td>\n",
       "      <td>800.0</td>\n",
       "      <td>800.0</td>\n",
       "      <td>800.0</td>\n",
       "      <td>800.0</td>\n",
       "      <td>800.0</td>\n",
       "      <td>800.0</td>\n",
       "      <td>800.0</td>\n",
       "      <td>800.0</td>\n",
       "      <td>800.0</td>\n",
       "      <td>NaN</td>\n",
       "    </tr>\n",
       "  </tbody>\n",
       "</table>\n",
       "</div>"
      ],
      "text/plain": [
       "         id_region  2018_01_01  2018_01_02  2018_01_03  2018_01_04  \\\n",
       "642       Zacarias         1.0         2.0         3.0         4.0   \n",
       "643      Chavantes         1.0         2.0         3.0         4.0   \n",
       "644   Estiva Gerbi         1.0         2.0         3.0         4.0   \n",
       "645  Limite_Minima         1.0         1.0         1.0         1.0   \n",
       "646  Limite_Maxima       800.0       800.0       800.0       800.0   \n",
       "\n",
       "     2018_01_05  2018_01_06  2018_01_07  2018_01_08  2018_01_09  2018_01_10  \\\n",
       "642         5.0         6.0         7.0         8.0         9.0        10.0   \n",
       "643         5.0         6.0         7.0         8.0         9.0        10.0   \n",
       "644         5.0         6.0         7.0         8.0         9.0        10.0   \n",
       "645         1.0         1.0         1.0         1.0         1.0         1.0   \n",
       "646       800.0       800.0       800.0       800.0       800.0       800.0   \n",
       "\n",
       "     2018_01_11  2018_01_12            cord_centroide  \n",
       "642        11.0        12.0  [-21.110821, -50.056437]  \n",
       "643        11.0        12.0  [-23.031241, -49.728742]  \n",
       "644        11.0        12.0  [-22.233445, -46.943029]  \n",
       "645         1.0         1.0                       NaN  \n",
       "646       800.0       800.0                       NaN  "
      ]
     },
     "execution_count": 148,
     "metadata": {},
     "output_type": "execute_result"
    }
   ],
   "source": [
    "#calculando o valor Limite Superior dos cores (valor maximo da matriz)\n",
    "Val_Max=df_Dados_com_Coordenadas.iloc[:,1:-1].max().max()\n",
    "#calculando o valor Limite Inferior dos cores (valor minimo da matriz)\n",
    "Val_Min=df_Dados_com_Coordenadas.iloc[:,1:-1].min().min()\n",
    "Tamanho_do_Data_frame=len(df_Dados_com_Coordenadas)\n",
    "#Insertando uma Linha Auxiliar np data frame que contemha os maximos valores\n",
    "if (len(df_Dados_com_Coordenadas[df_Dados_com_Coordenadas.id_region=='Limite_Maxima'])<1)&(len(df_Dados_com_Coordenadas[df_Dados_com_Coordenadas.id_region=='Limite_Minima'])<1):\n",
    "    df_Dados_com_Coordenadas.set_value(Tamanho_do_Data_frame,'id_region',\"Limite_Minima\")\n",
    "    df_Dados_com_Coordenadas.set_value(Tamanho_do_Data_frame+1,'id_region',\"Limite_Maxima\")\n",
    "    for fill_max in df_Dados_com_Coordenadas.iloc[:,1:-1].columns:\n",
    "        df_Dados_com_Coordenadas.set_value(Tamanho_do_Data_frame,fill_max,Val_Min)\n",
    "        df_Dados_com_Coordenadas.set_value(Tamanho_do_Data_frame+1,fill_max,Val_Max)\n",
    "df_Dados_com_Coordenadas.tail()"
   ]
  },
  {
   "cell_type": "code",
   "execution_count": 8,
   "metadata": {},
   "outputs": [],
   "source": [
    "##Funcao que converte de um string a um HTML\n",
    "#def entitify(text):\n",
    "#    return ''.join('&#%d;' % ord(c) for c in text)"
   ]
  },
  {
   "cell_type": "markdown",
   "metadata": {},
   "source": [
    "### Plotando com etiquetas de texto(formato=html) no mapa"
   ]
  },
  {
   "cell_type": "code",
   "execution_count": 151,
   "metadata": {},
   "outputs": [],
   "source": [
    "def Pondo_Labels_poligonos(data,folium,Nome_da_Grafico,marker):\n",
    "    Coordenada=data.cord_centroide.values.tolist()\n",
    "    labels=data[Nome_da_Grafico].values.tolist()\n",
    "    for point in range(len(Coordenada)):\n",
    "        #Convertendo o string em um formato de html\n",
    "        str_html=str(labels[point])\n",
    "        #Pondo o label de texto em cada cebtroide da coordenada\n",
    "        folium.map.Marker(\n",
    "            Coordenada[point],\n",
    "            icon=DivIcon(\n",
    "                icon_size=(9,6),\n",
    "                icon_anchor=(0,0),\n",
    "                html='<div style=\"font-size: 6pt\"><font color=\"red\">%s</font></div>' % str_html\n",
    "                #html=entitify(str_html),\n",
    "                ),\n",
    "            tooltip=None,\n",
    "        ).add_to(m)\n",
    "    Marker_Completado=folium.LayerControl().add_to(marker)\n",
    "    #Guardando o mapa\n",
    "    return Marker_Completado"
   ]
  },
  {
   "cell_type": "markdown",
   "metadata": {},
   "source": [
    "### Plotando com estilos de Iconos no mapa"
   ]
  },
  {
   "cell_type": "code",
   "execution_count": 150,
   "metadata": {},
   "outputs": [],
   "source": [
    "def Pondo_Labels_poligonos(data,folium,Nome_da_Grafico,marker):\n",
    "    Coordenada=data.cord_centroide.values.tolist()\n",
    "    labels=data[Nome_da_Grafico].values.astype(str).tolist()\n",
    "    for point in range(len(Coordenada)):\n",
    "        popup = folium.Popup(labels[point], parse_html=True)\n",
    "        #Para seleccionar o tipo de Icone e modificar configuracao entrar aqui:\n",
    "        #https://github.com/lvoogdt/Leaflet.awesome-markers\n",
    "        folium.Marker(Coordenada[point], popup=popup, icon=folium.Icon(color='darkblue', icon_color='white', icon='coffee', angle=0, prefix='fa')).add_to(marker)\n",
    "    Marker_Completado=folium.LayerControl().add_to(marker)\n",
    "    #Guardando o mapa\n",
    "    return Marker_Completado"
   ]
  },
  {
   "cell_type": "code",
   "execution_count": 339,
   "metadata": {
    "scrolled": true
   },
   "outputs": [
    {
     "name": "stdout",
     "output_type": "stream",
     "text": [
      "2018_01_01\n",
      "2018_01_02\n",
      "2018_01_03\n",
      "2018_01_04\n",
      "2018_01_05\n",
      "2018_01_06\n",
      "2018_01_07\n",
      "2018_01_08\n",
      "2018_01_09\n",
      "2018_01_10\n",
      "2018_01_11\n",
      "2018_01_12\n"
     ]
    }
   ],
   "source": [
    "#Dibujando conjunto de mapas de acordo com o tempo, assim como tambem coloreando de acordo a la quantidade de valores que tiene por o tempo\n",
    "#percorrendo por o tempo\n",
    "for Tempo in df_Dados_com_Coordenadas.columns[1:-1]:\n",
    "    print (Tempo)\n",
    "    #nome da data da grafica\n",
    "    Nome_da_Grafico=Tempo\n",
    "    #inicializando el mapa en el ponto de cordenada de Bradesco\n",
    "    m = folium.Map([-23.549435, -46.774807], zoom_start=7)\n",
    "    #Coloreando por intensidade cada poligono del mapa\n",
    "    folium.Choropleth(\n",
    "        geo_data=geo_json_data,\n",
    "        name='choropleth',\n",
    "        data=df_Dados_com_Coordenadas,\n",
    "        columns=['id_region', Nome_da_Grafico],\n",
    "        key_on='properties.id',\n",
    "        fill_color='YlGn',\n",
    "        fill_opacity=0.7,\n",
    "        line_opacity=0.2,\n",
    "        legend_name='Intensidade de Cores Rate (%)'\n",
    "    ).add_to(m)\n",
    "    #Tirando a linha com os valores maximos e minimos\n",
    "    df_Dados_com_Coordenadas_sem_Ultima_Linha=df_Dados_com_Coordenadas.iloc[:-2]\n",
    "    #Insertando as etiquetas a cada poligono \n",
    "    Marker_Final=Pondo_Labels_poligonos(df_Dados_com_Coordenadas_sem_Ultima_Linha,folium,Nome_da_Grafico,m)\n",
    "    Marker_Final.save(os.path.join('data', Nome_da_Grafico+'.html'))"
   ]
  },
  {
   "cell_type": "markdown",
   "metadata": {},
   "source": [
    "### Capturando Html em Imagem (jpg ou png) _ _ 1"
   ]
  },
  {
   "cell_type": "code",
   "execution_count": null,
   "metadata": {},
   "outputs": [],
   "source": [
    "#conda install selenium phantomjs pillow"
   ]
  },
  {
   "cell_type": "code",
   "execution_count": 370,
   "metadata": {},
   "outputs": [],
   "source": [
    "from selenium import webdriver\n",
    "def Criando_Imagem(Nome_Arquivo):\n",
    "    driver = webdriver.Chrome(executable_path='C:\\\\Users\\\\emily\\\\Documents\\\\Juan\\\\WebChrome\\\\chromedriver_win32\\\\chromedriver.exe')\n",
    "    driver.get('C:/Users/emily/Documents/Juan/data/'+Nome_Arquivo+'.html')\n",
    "    driver.save_screenshot('data/'+Nome_Arquivo+'.png')\n",
    "    driver.quit()"
   ]
  },
  {
   "cell_type": "code",
   "execution_count": 406,
   "metadata": {},
   "outputs": [
    {
     "name": "stdout",
     "output_type": "stream",
     "text": [
      "Imagem 2018_01_01.png Guardada\n",
      "Imagem 2018_01_02.png Guardada\n",
      "Imagem 2018_01_03.png Guardada\n",
      "Imagem 2018_01_04.png Guardada\n",
      "Imagem 2018_01_05.png Guardada\n",
      "Imagem 2018_01_06.png Guardada\n",
      "Imagem 2018_01_07.png Guardada\n",
      "Imagem 2018_01_08.png Guardada\n",
      "Imagem 2018_01_09.png Guardada\n",
      "Imagem 2018_01_10.png Guardada\n",
      "Imagem 2018_01_11.png Guardada\n",
      "Imagem 2018_01_12.png Guardada\n"
     ]
    }
   ],
   "source": [
    "Lista_de_Arquivos=['2018_01_02']\n",
    "for Arquivo in df_Dados_com_Coordenadas.columns[1:-1]:\n",
    "    Criando_Imagem(Arquivo)\n",
    "    print ('Imagem '+Arquivo+'.png Guardada')"
   ]
  },
  {
   "cell_type": "markdown",
   "metadata": {},
   "source": [
    "### Capturando Html em Imagem (jpg ou png) _ _ 2"
   ]
  },
  {
   "cell_type": "code",
   "execution_count": null,
   "metadata": {},
   "outputs": [],
   "source": [
    "#conda install -c auto pdfcrowd\n",
    "import sys\n",
    "!{sys.executable} -m pip install imgkit"
   ]
  },
  {
   "cell_type": "code",
   "execution_count": 344,
   "metadata": {},
   "outputs": [
    {
     "name": "stdout",
     "output_type": "stream",
     "text": [
      "Loading page (1/2)\r\n",
      "[>                                                           ] 0%\r",
      "[======>                                                     ] 10%\r",
      "[============================>                               ] 47%\r",
      "[============================>                               ] 47%\r",
      "[==============================>                             ] 50%\r",
      "[==============================>                             ] 50%\r",
      "[==============================>                             ] 51%\r",
      "[=====================================>                      ] 63%\r",
      "[============================================================] 100%\r",
      "Rendering (2/2)                                                    \r\n",
      "[>                                                           ] 0%\r",
      "[===============>                                            ] 25%\r",
      "[============================================================] 100%\r",
      "Done                                                               \r\n",
      "Imagem \"cara\" Guardada!\n"
     ]
    }
   ],
   "source": [
    "Name_Html=\"cara\"\n",
    "File_html=r'C:/Users/emily/Documents/Juan/data/'+Name_Html+'.html'\n",
    "options = {'width': 1400, 'disable-smart-width': '','height' : 1200,'quality': 94}\n",
    "with open(File_html) as f:\n",
    "    imgkit.from_file(f, 'C:/Users/emily/Documents/Juan/data/out.jpg',config=config,options=options)\n",
    "    print ('Imagem \"'+Name_Html +'\" Guardada!')"
   ]
  },
  {
   "cell_type": "code",
   "execution_count": 273,
   "metadata": {},
   "outputs": [
    {
     "name": "stdout",
     "output_type": "stream",
     "text": [
      "Loading page (1/2)\r\n",
      "[>                                                           ] 0%\r",
      "[======>                                                     ] 10%\r",
      "[==============================>                             ] 50%\r",
      "[============================================================] 100%\r",
      "Rendering (2/2)                                                    \r\n",
      "[>                                                           ] 0%\r",
      "[===============>                                            ] 25%\r",
      "[============================================================] 100%\r",
      "Done                                                               \r\n"
     ]
    },
    {
     "data": {
      "text/plain": [
       "True"
      ]
     },
     "execution_count": 273,
     "metadata": {},
     "output_type": "execute_result"
    }
   ],
   "source": [
    "output_file='C:/Users/emily/Documents/Juan/data/out.jpg'\n",
    "html_string='C:/Users/emily/Documents/Juan/data/2018_01_02.html'\n",
    "config = imgkit.config(wkhtmltoimage='C:/Program Files/wkhtmltopdf/bin/wkhtmltoimage.exe')\n",
    "imgkit.from_string(html_string, output_file, config=config)"
   ]
  },
  {
   "cell_type": "markdown",
   "metadata": {},
   "source": [
    "### Converter imagens em Videio"
   ]
  },
  {
   "cell_type": "code",
   "execution_count": 230,
   "metadata": {},
   "outputs": [],
   "source": [
    "#INSTALAR ESTES PAQUETES\n",
    "#conda install -c conda-forge opencv\n",
    "#conda install -c conda-forge/label/gcc7 opencv \n",
    "#conda install -c conda-forge/label/broken opencv\n",
    "#conda install -c conda-forge/label/cf201901 opencv"
   ]
  },
  {
   "cell_type": "code",
   "execution_count": 415,
   "metadata": {},
   "outputs": [
    {
     "name": "stdout",
     "output_type": "stream",
     "text": [
      "False\n",
      "None\n",
      "C:/Users/emily/Documents/Juan/data/2018_01_01.png\n",
      "Creating...C:/Users/emily/Documents/Juan/data/2018_01_01.png\n",
      "False\n",
      "None\n",
      "C:/Users/emily/Documents/Juan/data/2018_01_02.png\n",
      "Creating...C:/Users/emily/Documents/Juan/data/2018_01_02.png\n",
      "False\n",
      "None\n",
      "C:/Users/emily/Documents/Juan/data/2018_01_03.png\n",
      "Creating...C:/Users/emily/Documents/Juan/data/2018_01_03.png\n",
      "False\n",
      "None\n",
      "C:/Users/emily/Documents/Juan/data/2018_01_04.png\n",
      "Creating...C:/Users/emily/Documents/Juan/data/2018_01_04.png\n",
      "False\n",
      "None\n",
      "C:/Users/emily/Documents/Juan/data/2018_01_05.png\n",
      "Creating...C:/Users/emily/Documents/Juan/data/2018_01_05.png\n"
     ]
    }
   ],
   "source": [
    "import cv2\n",
    "import numpy as np\n",
    "import os\n",
    "Imagenes=['2018_01_01','2018_01_02','2018_01_03','2018_01_04','2018_01_05']\n",
    "\n",
    "# Playing video from file:\n",
    "cap = cv2.VideoCapture(r'C:/Users/emily/Documents/Juan/data/PELICULA.mp4')\n",
    "\n",
    "try:\n",
    "    if not os.path.exists('data'):\n",
    "        os.makedirs('data')\n",
    "        print (\"Náo existiu\")\n",
    "except OSError:\n",
    "    print ('Error: Creating directory of data')\n",
    "\n",
    "currentFrame = 0\n",
    "while(True):\n",
    "    # Capture frame-by-frame\n",
    "    ret, frame = cap.read()\n",
    "    print (ret)\n",
    "    print (frame)\n",
    "    # Saves image of the current frame in jpg file\n",
    "    name = 'C:/Users/emily/Documents/Juan/data/' + str(Imagenes[currentFrame]) + '.png'\n",
    "    print (name)\n",
    "    print ('Creating...' + name)\n",
    "    cv2.imwrite(name, frame)\n",
    "\n",
    "    # To stop duplicate images\n",
    "    currentFrame += 1\n",
    "    if currentFrame >4:\n",
    "        break\n",
    "\n",
    "# When everything done, release the capture\n",
    "cap.release()\n",
    "cv2.destroyAllWindows()"
   ]
  },
  {
   "cell_type": "code",
   "execution_count": 391,
   "metadata": {},
   "outputs": [],
   "source": [
    "def make_video(images, outimg=None, fps=5, size=None,\n",
    "               is_color=True, format=\"XVID\"):\n",
    "    \"\"\"\n",
    "    Create a video from a list of images.\n",
    " \n",
    "    @param      outvid      output video\n",
    "    @param      images      list of images to use in the video\n",
    "    @param      fps         frame per second\n",
    "    @param      size        size of each frame\n",
    "    @param      is_color    color\n",
    "    @param      format      see http://www.fourcc.org/codecs.php\n",
    "    @return                 see http://opencv-python-tutroals.readthedocs.org/en/latest/py_tutorials/py_gui/py_video_display/py_video_display.html\n",
    " \n",
    "    The function relies on http://opencv-python-tutroals.readthedocs.org/en/latest/.\n",
    "    By default, the video will have the size of the first image.\n",
    "    It will resize every image to this size before adding them to the video.\n",
    "    \"\"\"\n",
    "    from cv2 import VideoWriter, VideoWriter_fourcc, imread, resize\n",
    "    fourcc = VideoWriter_fourcc(*format)\n",
    "    print(fourcc)\n",
    "    outvid='C:/Users/emily/Documents/Juan/data/'\n",
    "    vid = None\n",
    "    for image in images:\n",
    "        if not os.path.exists(image):\n",
    "            raise FileNotFoundError(image)\n",
    "        img = imread(image)\n",
    "        if vid is None:\n",
    "            if size is None:\n",
    "                size = img.shape[1], img.shape[0]\n",
    "            vid = VideoWriter(outvid, fourcc, float(fps), size, is_color)\n",
    "        if size[0] != img.shape[1] and size[1] != img.shape[0]:\n",
    "            img = resize(img, size)\n",
    "        vid.write(img)\n",
    "        print (vid.write(img))\n",
    "    vid.release()\n",
    "    return vid"
   ]
  },
  {
   "cell_type": "code",
   "execution_count": 234,
   "metadata": {},
   "outputs": [
    {
     "data": {
      "text/html": [
       "<a href=\"https://www.wikipedia.org/\">link</a>"
      ],
      "text/plain": [
       "<IPython.core.display.HTML object>"
      ]
     },
     "execution_count": 234,
     "metadata": {},
     "output_type": "execute_result"
    }
   ],
   "source": [
    "from IPython.core.display import HTML\n",
    "HTML('<a href=\"https://www.wikipedia.org/\">link</a>')"
   ]
  },
  {
   "cell_type": "code",
   "execution_count": 235,
   "metadata": {},
   "outputs": [
    {
     "data": {
      "text/html": [
       "<a href=\"https://www.google.com/\">link</a>\n"
      ],
      "text/plain": [
       "<IPython.core.display.HTML object>"
      ]
     },
     "metadata": {},
     "output_type": "display_data"
    }
   ],
   "source": [
    "%%html\n",
    "<a href=\"https://www.google.com/\">link</a>"
   ]
  },
  {
   "cell_type": "code",
   "execution_count": null,
   "metadata": {},
   "outputs": [],
   "source": [
    "#http://www.pmf.sc.gov.br/arquivos/arquivos/pdf/04_01_2010_9.58.44.08ae0276e7919fbaf1a4bbd72c7d06df.PDF\n",
    "#http://www.pmf.sc.gov.br/arquivos/arquivos/pdf/04_01_2010_10.27.25.2b615e6755138defe1bdb00f1c86031f.PDF\n",
    "#https://github.com/caspg/datamaps.co/tree/master/public/data/topo\n",
    "#https://github.com/tbrugz/geodata-br\n",
    "#https://github.com/fititnt/gis-dataset-brasil/blob/master/microrregiao/topojson/microrregiao.json"
   ]
  }
 ],
 "metadata": {
  "kernelspec": {
   "display_name": "Python 3",
   "language": "python",
   "name": "python3"
  },
  "language_info": {
   "codemirror_mode": {
    "name": "ipython",
    "version": 3
   },
   "file_extension": ".py",
   "mimetype": "text/x-python",
   "name": "python",
   "nbconvert_exporter": "python",
   "pygments_lexer": "ipython3",
   "version": "3.7.1"
  }
 },
 "nbformat": 4,
 "nbformat_minor": 2
}
